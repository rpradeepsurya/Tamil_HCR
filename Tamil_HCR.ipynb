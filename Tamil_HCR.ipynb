{
 "cells": [
  {
   "cell_type": "markdown",
   "metadata": {},
   "source": [
    "## Tamil Handwritten Character Recognition"
   ]
  },
  {
   "cell_type": "code",
   "execution_count": 11,
   "metadata": {
    "collapsed": true
   },
   "outputs": [],
   "source": [
    "import numpy as np\n",
    "from cnn_model import cnn_model\n",
    "from keras.preprocessing.image import ImageDataGenerator\n",
    "from matplotlib import pyplot as plt\n",
    "%matplotlib inline"
   ]
  },
  {
   "cell_type": "code",
   "execution_count": 4,
   "metadata": {},
   "outputs": [
    {
     "name": "stderr",
     "output_type": "stream",
     "text": [
      "/usr/local/lib/python3.6/site-packages/keras_preprocessing/image/image_data_generator.py:334: UserWarning: This ImageDataGenerator specifies `zca_whitening`, which overrides setting of `featurewise_center`.\n",
      "  warnings.warn('This ImageDataGenerator specifies '\n"
     ]
    },
    {
     "name": "stdout",
     "output_type": "stream",
     "text": [
      "Found 46800 images belonging to 156 classes.\n",
      "Found 15600 images belonging to 156 classes.\n"
     ]
    }
   ],
   "source": [
    "# Data Augmentation\n",
    "\n",
    "batch_size = 128\n",
    "img_width, img_height = 96, 96\n",
    "\n",
    "train_datagen = ImageDataGenerator(\n",
    "    zca_whitening=True,\n",
    "    rescale=1./255)\n",
    "\n",
    "valid_datagen = ImageDataGenerator(\n",
    "    rescale=1./255)\n",
    "\n",
    "train_generator = train_datagen.flow_from_directory(\n",
    "    'train_files',\n",
    "    target_size=(img_width, img_height),    \n",
    "    batch_size=batch_size,\n",
    "    class_mode='categorical')\n",
    "\n",
    "validation_generator = valid_datagen.flow_from_directory(\n",
    "    'valid_files',\n",
    "    target_size=(img_width, img_height),   \n",
    "    batch_size=batch_size,\n",
    "    class_mode='categorical')\n"
   ]
  },
  {
   "cell_type": "code",
   "execution_count": 5,
   "metadata": {
    "collapsed": true
   },
   "outputs": [],
   "source": [
    "Image_size = 96\n",
    "num_of_classes = 156\n",
    "\n",
    "cnn_transfer_model = cnn_model(Image_size, num_of_classes)"
   ]
  },
  {
   "cell_type": "code",
   "execution_count": 6,
   "metadata": {},
   "outputs": [
    {
     "name": "stdout",
     "output_type": "stream",
     "text": [
      "_________________________________________________________________\n",
      "Layer (type)                 Output Shape              Param #   \n",
      "=================================================================\n",
      "input_1 (InputLayer)         (None, 96, 96, 3)         0         \n",
      "_________________________________________________________________\n",
      "zero_padding2d_1 (ZeroPaddin (None, 98, 98, 3)         0         \n",
      "_________________________________________________________________\n",
      "conv2d_1 (Conv2D)            (None, 48, 48, 64)        1792      \n",
      "_________________________________________________________________\n",
      "leaky_re_lu_1 (LeakyReLU)    (None, 48, 48, 64)        0         \n",
      "_________________________________________________________________\n",
      "batch_normalization_1 (Batch (None, 48, 48, 64)        256       \n",
      "_________________________________________________________________\n",
      "zero_padding2d_2 (ZeroPaddin (None, 50, 50, 64)        0         \n",
      "_________________________________________________________________\n",
      "conv2d_2 (Conv2D)            (None, 48, 48, 128)       73856     \n",
      "_________________________________________________________________\n",
      "leaky_re_lu_2 (LeakyReLU)    (None, 48, 48, 128)       0         \n",
      "_________________________________________________________________\n",
      "batch_normalization_2 (Batch (None, 48, 48, 128)       512       \n",
      "_________________________________________________________________\n",
      "zero_padding2d_3 (ZeroPaddin (None, 50, 50, 128)       0         \n",
      "_________________________________________________________________\n",
      "conv2d_3 (Conv2D)            (None, 48, 48, 128)       147584    \n",
      "_________________________________________________________________\n",
      "leaky_re_lu_3 (LeakyReLU)    (None, 48, 48, 128)       0         \n",
      "_________________________________________________________________\n",
      "batch_normalization_3 (Batch (None, 48, 48, 128)       512       \n",
      "_________________________________________________________________\n",
      "max_pooling2d_1 (MaxPooling2 (None, 24, 24, 128)       0         \n",
      "_________________________________________________________________\n",
      "zero_padding2d_4 (ZeroPaddin (None, 26, 26, 128)       0         \n",
      "_________________________________________________________________\n",
      "conv2d_4 (Conv2D)            (None, 24, 24, 256)       295168    \n",
      "_________________________________________________________________\n",
      "leaky_re_lu_4 (LeakyReLU)    (None, 24, 24, 256)       0         \n",
      "_________________________________________________________________\n",
      "batch_normalization_4 (Batch (None, 24, 24, 256)       1024      \n",
      "_________________________________________________________________\n",
      "zero_padding2d_5 (ZeroPaddin (None, 26, 26, 256)       0         \n",
      "_________________________________________________________________\n",
      "conv2d_5 (Conv2D)            (None, 24, 24, 256)       590080    \n",
      "_________________________________________________________________\n",
      "leaky_re_lu_5 (LeakyReLU)    (None, 24, 24, 256)       0         \n",
      "_________________________________________________________________\n",
      "batch_normalization_5 (Batch (None, 24, 24, 256)       1024      \n",
      "_________________________________________________________________\n",
      "max_pooling2d_2 (MaxPooling2 (None, 12, 12, 256)       0         \n",
      "_________________________________________________________________\n",
      "zero_padding2d_6 (ZeroPaddin (None, 14, 14, 256)       0         \n",
      "_________________________________________________________________\n",
      "conv2d_6 (Conv2D)            (None, 12, 12, 384)       885120    \n",
      "_________________________________________________________________\n",
      "leaky_re_lu_6 (LeakyReLU)    (None, 12, 12, 384)       0         \n",
      "_________________________________________________________________\n",
      "batch_normalization_6 (Batch (None, 12, 12, 384)       1536      \n",
      "_________________________________________________________________\n",
      "zero_padding2d_7 (ZeroPaddin (None, 14, 14, 384)       0         \n",
      "_________________________________________________________________\n",
      "conv2d_7 (Conv2D)            (None, 12, 12, 384)       1327488   \n",
      "_________________________________________________________________\n",
      "leaky_re_lu_7 (LeakyReLU)    (None, 12, 12, 384)       0         \n",
      "_________________________________________________________________\n",
      "batch_normalization_7 (Batch (None, 12, 12, 384)       1536      \n",
      "_________________________________________________________________\n",
      "zero_padding2d_8 (ZeroPaddin (None, 14, 14, 384)       0         \n",
      "_________________________________________________________________\n",
      "conv2d_8 (Conv2D)            (None, 12, 12, 384)       1327488   \n",
      "_________________________________________________________________\n",
      "leaky_re_lu_8 (LeakyReLU)    (None, 12, 12, 384)       0         \n",
      "_________________________________________________________________\n",
      "batch_normalization_8 (Batch (None, 12, 12, 384)       1536      \n",
      "_________________________________________________________________\n",
      "max_pooling2d_3 (MaxPooling2 (None, 6, 6, 384)         0         \n",
      "_________________________________________________________________\n",
      "zero_padding2d_9 (ZeroPaddin (None, 8, 8, 384)         0         \n",
      "_________________________________________________________________\n",
      "conv2d_9 (Conv2D)            (None, 6, 6, 512)         1769984   \n",
      "_________________________________________________________________\n",
      "leaky_re_lu_9 (LeakyReLU)    (None, 6, 6, 512)         0         \n",
      "_________________________________________________________________\n",
      "batch_normalization_9 (Batch (None, 6, 6, 512)         2048      \n",
      "_________________________________________________________________\n",
      "zero_padding2d_10 (ZeroPaddi (None, 8, 8, 512)         0         \n",
      "_________________________________________________________________\n",
      "conv2d_10 (Conv2D)           (None, 6, 6, 512)         2359808   \n",
      "_________________________________________________________________\n",
      "leaky_re_lu_10 (LeakyReLU)   (None, 6, 6, 512)         0         \n",
      "_________________________________________________________________\n",
      "batch_normalization_10 (Batc (None, 6, 6, 512)         2048      \n",
      "_________________________________________________________________\n",
      "zero_padding2d_11 (ZeroPaddi (None, 8, 8, 512)         0         \n",
      "_________________________________________________________________\n",
      "conv2d_11 (Conv2D)           (None, 6, 6, 512)         2359808   \n",
      "_________________________________________________________________\n",
      "leaky_re_lu_11 (LeakyReLU)   (None, 6, 6, 512)         0         \n",
      "_________________________________________________________________\n",
      "batch_normalization_11 (Batc (None, 6, 6, 512)         2048      \n",
      "_________________________________________________________________\n",
      "max_pooling2d_4 (MaxPooling2 (None, 3, 3, 512)         0         \n",
      "_________________________________________________________________\n",
      "flatten_1 (Flatten)          (None, 4608)              0         \n",
      "_________________________________________________________________\n",
      "dense_1 (Dense)              (None, 1024)              4719616   \n",
      "_________________________________________________________________\n",
      "leaky_re_lu_12 (LeakyReLU)   (None, 1024)              0         \n",
      "_________________________________________________________________\n",
      "batch_normalization_12 (Batc (None, 1024)              4096      \n",
      "_________________________________________________________________\n",
      "dense_2 (Dense)              (None, 256)               262400    \n",
      "_________________________________________________________________\n",
      "leaky_re_lu_13 (LeakyReLU)   (None, 256)               0         \n",
      "_________________________________________________________________\n",
      "batch_normalization_13 (Batc (None, 256)               1024      \n",
      "_________________________________________________________________\n",
      "dense_3 (Dense)              (None, 156)               40092     \n",
      "_________________________________________________________________\n",
      "activation_1 (Activation)    (None, 156)               0         \n",
      "=================================================================\n",
      "Total params: 16,179,484\n",
      "Trainable params: 16,169,884\n",
      "Non-trainable params: 9,600\n",
      "_________________________________________________________________\n"
     ]
    }
   ],
   "source": [
    "cnn_transfer_model.summary()"
   ]
  },
  {
   "cell_type": "code",
   "execution_count": 7,
   "metadata": {
    "collapsed": true
   },
   "outputs": [],
   "source": [
    "# Loading model weights\n",
    "\n",
    "cnn_transfer_model.compile(loss='categorical_crossentropy', optimizer='adam', metrics=['accuracy'])"
   ]
  },
  {
   "cell_type": "code",
   "execution_count": 28,
   "metadata": {},
   "outputs": [
    {
     "name": "stdout",
     "output_type": "stream",
     "text": [
      "Epoch 1/20\n",
      "78/78 [==============================] - 61s 778ms/step - loss: 2.5934 - acc: 0.3965 - val_loss: 1.3105 - val_acc: 0.6411\n",
      "\n",
      "Epoch 00001: val_loss improved from inf to 1.31045, saving model to Chine_Transfer_Model_weights_batch128.Augmentation_zca.best.hdf5\n",
      "Epoch 2/20\n",
      "78/78 [==============================] - 51s 660ms/step - loss: 0.9261 - acc: 0.7514 - val_loss: 0.6899 - val_acc: 0.8022\n",
      "\n",
      "Epoch 00002: val_loss improved from 1.31045 to 0.68991, saving model to Chine_Transfer_Model_weights_batch128.Augmentation_zca.best.hdf5\n",
      "Epoch 3/20\n",
      "78/78 [==============================] - 52s 661ms/step - loss: 0.5647 - acc: 0.8392 - val_loss: 0.4886 - val_acc: 0.8632\n",
      "\n",
      "Epoch 00003: val_loss improved from 0.68991 to 0.48863, saving model to Chine_Transfer_Model_weights_batch128.Augmentation_zca.best.hdf5\n",
      "Epoch 4/20\n",
      "78/78 [==============================] - 53s 677ms/step - loss: 0.4647 - acc: 0.8615 - val_loss: 0.4600 - val_acc: 0.8616\n",
      "\n",
      "Epoch 00004: val_loss improved from 0.48863 to 0.45996, saving model to Chine_Transfer_Model_weights_batch128.Augmentation_zca.best.hdf5\n",
      "Epoch 5/20\n",
      "78/78 [==============================] - 54s 694ms/step - loss: 0.3634 - acc: 0.8927 - val_loss: 0.4404 - val_acc: 0.8700\n",
      "\n",
      "Epoch 00005: val_loss improved from 0.45996 to 0.44043, saving model to Chine_Transfer_Model_weights_batch128.Augmentation_zca.best.hdf5\n",
      "Epoch 6/20\n",
      "78/78 [==============================] - 52s 661ms/step - loss: 0.2934 - acc: 0.9082 - val_loss: 0.3279 - val_acc: 0.8979\n",
      "\n",
      "Epoch 00006: val_loss improved from 0.44043 to 0.32786, saving model to Chine_Transfer_Model_weights_batch128.Augmentation_zca.best.hdf5\n",
      "Epoch 7/20\n",
      "78/78 [==============================] - 52s 661ms/step - loss: 0.3010 - acc: 0.9088 - val_loss: 0.2972 - val_acc: 0.9068\n",
      "\n",
      "Epoch 00007: val_loss improved from 0.32786 to 0.29723, saving model to Chine_Transfer_Model_weights_batch128.Augmentation_zca.best.hdf5\n",
      "Epoch 8/20\n",
      "78/78 [==============================] - 52s 660ms/step - loss: 0.2813 - acc: 0.9130 - val_loss: 0.2904 - val_acc: 0.9099\n",
      "\n",
      "Epoch 00008: val_loss improved from 0.29723 to 0.29041, saving model to Chine_Transfer_Model_weights_batch128.Augmentation_zca.best.hdf5\n",
      "Epoch 9/20\n",
      "78/78 [==============================] - 52s 661ms/step - loss: 0.2682 - acc: 0.9164 - val_loss: 0.2643 - val_acc: 0.9221\n",
      "\n",
      "Epoch 00009: val_loss improved from 0.29041 to 0.26433, saving model to Chine_Transfer_Model_weights_batch128.Augmentation_zca.best.hdf5\n",
      "Epoch 10/20\n",
      "78/78 [==============================] - 51s 658ms/step - loss: 0.2217 - acc: 0.9336 - val_loss: 0.2590 - val_acc: 0.9138\n",
      "\n",
      "Epoch 00010: val_loss improved from 0.26433 to 0.25899, saving model to Chine_Transfer_Model_weights_batch128.Augmentation_zca.best.hdf5\n",
      "Epoch 11/20\n",
      "78/78 [==============================] - 52s 660ms/step - loss: 0.1945 - acc: 0.9353 - val_loss: 0.2580 - val_acc: 0.9151\n",
      "\n",
      "Epoch 00011: val_loss improved from 0.25899 to 0.25804, saving model to Chine_Transfer_Model_weights_batch128.Augmentation_zca.best.hdf5\n",
      "Epoch 12/20\n",
      "78/78 [==============================] - 52s 661ms/step - loss: 0.2145 - acc: 0.9298 - val_loss: 0.2611 - val_acc: 0.9188\n",
      "\n",
      "Epoch 00012: val_loss did not improve from 0.25804\n",
      "Epoch 13/20\n",
      "78/78 [==============================] - 52s 661ms/step - loss: 0.2066 - acc: 0.9353 - val_loss: 0.2827 - val_acc: 0.9115\n",
      "\n",
      "Epoch 00013: val_loss did not improve from 0.25804\n",
      "Epoch 14/20\n",
      "78/78 [==============================] - 52s 661ms/step - loss: 0.1950 - acc: 0.9356 - val_loss: 0.2536 - val_acc: 0.9191\n",
      "\n",
      "Epoch 00014: val_loss improved from 0.25804 to 0.25359, saving model to Chine_Transfer_Model_weights_batch128.Augmentation_zca.best.hdf5\n",
      "Epoch 15/20\n",
      "78/78 [==============================] - 51s 658ms/step - loss: 0.1614 - acc: 0.9491 - val_loss: 0.2018 - val_acc: 0.9304\n",
      "\n",
      "Epoch 00015: val_loss improved from 0.25359 to 0.20178, saving model to Chine_Transfer_Model_weights_batch128.Augmentation_zca.best.hdf5\n",
      "Epoch 16/20\n",
      "78/78 [==============================] - 51s 660ms/step - loss: 0.1500 - acc: 0.9505 - val_loss: 0.2362 - val_acc: 0.9243\n",
      "\n",
      "Epoch 00016: val_loss did not improve from 0.20178\n",
      "Epoch 17/20\n",
      "78/78 [==============================] - 52s 661ms/step - loss: 0.1652 - acc: 0.9451 - val_loss: 0.2181 - val_acc: 0.9279\n",
      "\n",
      "Epoch 00017: val_loss did not improve from 0.20178\n",
      "Epoch 18/20\n",
      "78/78 [==============================] - 52s 661ms/step - loss: 0.1786 - acc: 0.9414 - val_loss: 0.2349 - val_acc: 0.9279\n",
      "\n",
      "Epoch 00018: val_loss did not improve from 0.20178\n",
      "Epoch 19/20\n",
      "78/78 [==============================] - 51s 658ms/step - loss: 0.1614 - acc: 0.9496 - val_loss: 0.2243 - val_acc: 0.9302\n",
      "\n",
      "Epoch 00019: val_loss did not improve from 0.20178\n",
      "Epoch 20/20\n",
      "78/78 [==============================] - 52s 660ms/step - loss: 0.1236 - acc: 0.9569 - val_loss: 0.1789 - val_acc: 0.9464\n",
      "\n",
      "Epoch 00020: val_loss improved from 0.20178 to 0.17894, saving model to Chine_Transfer_Model_weights_batch128.Augmentation_zca.best.hdf5\n"
     ]
    }
   ],
   "source": [
    "epochs = 20\n",
    "\n",
    "from keras.callbacks import ModelCheckpoint  \n",
    "\n",
    "checkpointer_datagen = ModelCheckpoint(filepath='Chine_Transfer_Model_weights_batch128.Augmentation_zca.best.hdf5', \n",
    "                               verbose=1, save_best_only=True)\n",
    "\n",
    "history = cnn_transfer_model.fit_generator(train_generator, steps_per_epoch=10000 // batch_size, epochs=epochs, validation_data=validation_generator,\n",
    "                    validation_steps=4000 // batch_size, callbacks=[checkpointer_datagen],  verbose=1)"
   ]
  },
  {
   "cell_type": "code",
   "execution_count": 29,
   "metadata": {},
   "outputs": [
    {
     "data": {
      "image/png": "[encoded data removed]",
      "text/plain": [
       "<Figure size 432x288 with 1 Axes>"
      ]
     },
     "metadata": {
      "needs_background": "light"
     },
     "output_type": "display_data"
    },
    {
     "data": {
      "image/png": "[encoded data removed]",
      "text/plain": [
       "<Figure size 432x288 with 1 Axes>"
      ]
     },
     "metadata": {
      "needs_background": "light"
     },
     "output_type": "display_data"
    }
   ],
   "source": [
    "plt.plot(history.history['acc'])\n",
    "plt.plot(history.history['val_acc'])\n",
    "plt.title('Model accuracy')\n",
    "plt.ylabel('Accuracy')\n",
    "plt.xlabel('Epoch')\n",
    "plt.legend(['train', 'valid'], loc='upper left')\n",
    "plt.show()\n",
    "plt.plot(history.history['loss'])\n",
    "plt.plot(history.history['val_loss'])\n",
    "plt.title('Model loss')\n",
    "plt.ylabel('Loss')\n",
    "plt.xlabel('Epoch')\n",
    "plt.legend(['train', 'valid'], loc='upper left')\n",
    "plt.show()"
   ]
  },
  {
   "cell_type": "code",
   "execution_count": 30,
   "metadata": {},
   "outputs": [
    {
     "name": "stdout",
     "output_type": "stream",
     "text": [
      "Training Accuracy =  0.9569310897435898\n",
      "Validation Accuracy =  0.946356274821015\n"
     ]
    }
   ],
   "source": [
    "print(\"Training Accuracy = \", history.history['acc'][-1])\n",
    "print(\"Validation Accuracy = \", history.history['val_acc'][-1])"
   ]
  },
  {
   "cell_type": "code",
   "execution_count": 8,
   "metadata": {
    "collapsed": true
   },
   "outputs": [],
   "source": [
    "# Loading the model weights with the best validation loss.\n",
    "\n",
    "cnn_transfer_model.load_weights('Chine_Transfer_Model_weights_batch128.Augmentation_zca.best.hdf5')"
   ]
  },
  {
   "cell_type": "code",
   "execution_count": 9,
   "metadata": {},
   "outputs": [
    {
     "name": "stdout",
     "output_type": "stream",
     "text": [
      "Found 15600 images belonging to 156 classes.\n"
     ]
    }
   ],
   "source": [
    "# Test data\n",
    "\n",
    "test_datagen = ImageDataGenerator(\n",
    "    rescale=1./255)\n",
    "\n",
    "test_generator = test_datagen.flow_from_directory(\n",
    "    'test_files',\n",
    "    target_size=(img_width, img_height), \n",
    "    batch_size=100,\n",
    "    shuffle = False,\n",
    "    class_mode='categorical')"
   ]
  },
  {
   "cell_type": "code",
   "execution_count": 41,
   "metadata": {},
   "outputs": [
    {
     "name": "stdout",
     "output_type": "stream",
     "text": [
      "Testing Accuracy = 0.9342948779081687\n",
      "Testing Loss =  0.2148984580409701\n"
     ]
    }
   ],
   "source": [
    "# Evaluating the model on test data\n",
    "\n",
    "score = cnn_transfer_model.evaluate_generator(test_generator, 156)\n",
    "\n",
    "print(f'Testing Accuracy = {score[1]}')\n",
    "print(f'Testing Loss =  {score[0]}')"
   ]
  },
  {
   "cell_type": "code",
   "execution_count": null,
   "metadata": {
    "collapsed": true
   },
   "outputs": [],
   "source": [
    "from sklearn.metrics import classification_report, confusion_matrix\n",
    "\n",
    "# Testing data predictions\n",
    "Y_pred = cnn_transfer_model.predict_generator(test_generator, test_generator.samples // test_generator.batch_size)\n",
    "y_pred = np.argmax(Y_pred, axis=1)"
   ]
  },
  {
   "cell_type": "code",
   "execution_count": 14,
   "metadata": {},
   "outputs": [
    {
     "name": "stdout",
     "output_type": "stream",
     "text": [
      "Testing data accuracy = 0.9342948717948718\n"
     ]
    }
   ],
   "source": [
    "# Calculating testing accuracy\n",
    "\n",
    "labels = len(test_generator.classes)\n",
    "accuracy = sum([y_pred[i]==test_generator.classes[i] for i in range(labels)])/labels\n",
    "\n",
    "print(f'Testing data accuracy = {accuracy}')"
   ]
  },
  {
   "cell_type": "code",
   "execution_count": 15,
   "metadata": {},
   "outputs": [
    {
     "data": {
      "image/png": "[encoded data removed]",
      "text/plain": [
       "<Figure size 1440x1080 with 2 Axes>"
      ]
     },
     "metadata": {},
     "output_type": "display_data"
    }
   ],
   "source": [
    "# Confusion Matrix plot\n",
    "\n",
    "cm = confusion_matrix(test_generator.classes, y_pred)\n",
    "\n",
    "plt.figure(figsize=(20,15))\n",
    "plt.matshow(cm, fignum=1)\n",
    "#plt.title('Confusion matrix')\n",
    "plt.colorbar()\n",
    "plt.ylabel('True label', fontsize=18)\n",
    "plt.xlabel('Predicted label', fontsize=18)\n",
    "plt.yticks(fontsize=12)\n",
    "plt.xticks(fontsize=12)\n",
    "plt.show()"
   ]
  },
  {
   "cell_type": "code",
   "execution_count": 17,
   "metadata": {},
   "outputs": [
    {
     "name": "stdout",
     "output_type": "stream",
     "text": [
      "Classification Report\n",
      "\n",
      "             precision    recall  f1-score   support\n",
      "\n",
      "          0       0.99      0.95      0.97       100\n",
      "          1       0.98      0.94      0.96       100\n",
      "          2       0.89      0.85      0.87       100\n",
      "          3       0.95      0.98      0.97       100\n",
      "          4       0.95      0.99      0.97       100\n",
      "          5       0.97      0.92      0.94       100\n",
      "          6       0.98      0.98      0.98       100\n",
      "          7       0.81      0.98      0.89       100\n",
      "          8       0.99      0.98      0.98       100\n",
      "          9       0.93      0.93      0.93       100\n",
      "         10       0.96      0.98      0.97       100\n",
      "         11       0.97      0.89      0.93       100\n",
      "         12       0.99      0.97      0.98       100\n",
      "         13       0.98      1.00      0.99       100\n",
      "         14       0.97      0.91      0.94       100\n",
      "         15       0.99      0.93      0.96       100\n",
      "         16       0.93      0.97      0.95       100\n",
      "         17       0.99      0.91      0.95       100\n",
      "         18       0.96      0.81      0.88       100\n",
      "         19       0.86      0.97      0.91       100\n",
      "         20       0.99      0.78      0.87       100\n",
      "         21       0.96      0.95      0.95       100\n",
      "         22       0.97      0.96      0.96       100\n",
      "         23       1.00      1.00      1.00       100\n",
      "         24       0.97      1.00      0.99       100\n",
      "         25       0.86      0.97      0.91       100\n",
      "         26       1.00      1.00      1.00       100\n",
      "         27       0.74      0.73      0.74       100\n",
      "         28       0.58      0.66      0.62       100\n",
      "         29       0.81      0.39      0.53       100\n",
      "         30       0.61      0.73      0.67       100\n",
      "         31       0.63      0.69      0.66       100\n",
      "         32       0.94      0.63      0.75       100\n",
      "         33       0.77      0.60      0.67       100\n",
      "         34       0.84      0.73      0.78       100\n",
      "         35       0.94      0.95      0.95       100\n",
      "         36       0.98      0.57      0.72       100\n",
      "         37       0.93      0.63      0.75       100\n",
      "         38       0.94      0.97      0.96       100\n",
      "         39       0.99      0.97      0.98       100\n",
      "         40       0.98      0.96      0.97       100\n",
      "         41       0.96      0.99      0.98       100\n",
      "         42       0.99      0.97      0.98       100\n",
      "         43       0.97      0.99      0.98       100\n",
      "         44       0.86      0.96      0.91       100\n",
      "         45       0.99      0.86      0.92       100\n",
      "         46       0.99      0.98      0.98       100\n",
      "         47       0.97      0.98      0.98       100\n",
      "         48       0.99      0.99      0.99       100\n",
      "         49       1.00      0.99      0.99       100\n",
      "         50       0.97      0.96      0.96       100\n",
      "         51       0.97      0.98      0.98       100\n",
      "         52       1.00      0.96      0.98       100\n",
      "         53       0.98      0.97      0.97       100\n",
      "         54       0.97      0.92      0.94       100\n",
      "         55       0.91      0.98      0.94       100\n",
      "         56       0.99      0.94      0.96       100\n",
      "         57       0.88      0.99      0.93       100\n",
      "         58       0.96      0.99      0.98       100\n",
      "         59       0.98      1.00      0.99       100\n",
      "         60       0.98      1.00      0.99       100\n",
      "         61       1.00      0.97      0.98       100\n",
      "         62       0.98      0.99      0.99       100\n",
      "         63       0.98      0.99      0.99       100\n",
      "         64       0.98      1.00      0.99       100\n",
      "         65       1.00      0.99      0.99       100\n",
      "         66       0.97      0.91      0.94       100\n",
      "         67       0.97      0.95      0.96       100\n",
      "         68       0.96      0.96      0.96       100\n",
      "         69       1.00      1.00      1.00       100\n",
      "         70       0.94      1.00      0.97       100\n",
      "         71       0.99      1.00      1.00       100\n",
      "         72       0.96      0.99      0.98       100\n",
      "         73       0.97      1.00      0.99       100\n",
      "         74       0.96      0.99      0.98       100\n",
      "         75       0.99      0.94      0.96       100\n",
      "         76       0.90      0.95      0.92       100\n",
      "         77       0.94      0.98      0.96       100\n",
      "         78       0.94      0.77      0.85       100\n",
      "         79       1.00      0.97      0.98       100\n",
      "         80       0.98      0.99      0.99       100\n",
      "         81       0.97      0.99      0.98       100\n",
      "         82       0.98      0.96      0.97       100\n",
      "         83       0.95      0.99      0.97       100\n",
      "         84       0.98      0.91      0.94       100\n",
      "         85       0.91      0.94      0.93       100\n",
      "         86       0.97      0.97      0.97       100\n",
      "         87       0.95      0.99      0.97       100\n",
      "         88       1.00      0.90      0.95       100\n",
      "         89       0.99      0.94      0.96       100\n",
      "         90       1.00      0.97      0.98       100\n",
      "         91       0.94      0.98      0.96       100\n",
      "         92       0.96      0.91      0.93       100\n",
      "         93       0.96      0.92      0.94       100\n",
      "         94       0.99      0.95      0.97       100\n",
      "         95       0.97      0.94      0.95       100\n",
      "         96       1.00      1.00      1.00       100\n",
      "         97       0.98      0.97      0.97       100\n",
      "         98       0.96      0.99      0.98       100\n",
      "         99       0.98      0.98      0.98       100\n",
      "        100       0.98      0.94      0.96       100\n",
      "        101       1.00      0.97      0.98       100\n",
      "        102       0.92      0.94      0.93       100\n",
      "        103       0.92      0.98      0.95       100\n",
      "        104       0.95      0.95      0.95       100\n",
      "        105       0.92      0.98      0.95       100\n",
      "        106       0.98      0.96      0.97       100\n",
      "        107       0.97      1.00      0.99       100\n",
      "        108       0.98      1.00      0.99       100\n",
      "        109       0.92      0.97      0.95       100\n",
      "        110       1.00      0.93      0.96       100\n",
      "        111       0.98      0.96      0.97       100\n",
      "        112       0.93      0.97      0.95       100\n",
      "        113       0.99      1.00      1.00       100\n",
      "        114       0.94      0.89      0.91       100\n",
      "        115       0.98      0.96      0.97       100\n",
      "        116       0.98      0.96      0.97       100\n",
      "        117       0.91      0.91      0.91       100\n",
      "        118       0.81      1.00      0.90       100\n",
      "        119       0.87      1.00      0.93       100\n",
      "        120       0.95      0.94      0.94       100\n",
      "        121       1.00      0.93      0.96       100\n",
      "        122       0.97      0.93      0.95       100\n",
      "        123       0.96      0.99      0.98       100\n",
      "        124       1.00      0.93      0.96       100\n",
      "        125       0.96      0.97      0.97       100\n",
      "        126       0.98      0.98      0.98       100\n",
      "        127       0.99      0.84      0.91       100\n",
      "        128       0.99      0.94      0.96       100\n",
      "        129       0.89      0.94      0.91       100\n",
      "        130       0.65      0.94      0.77       100\n",
      "        131       0.69      0.77      0.73       100\n",
      "        132       0.60      0.98      0.74       100\n",
      "        133       0.72      0.84      0.78       100\n",
      "        134       0.94      0.97      0.96       100\n",
      "        135       0.66      0.78      0.71       100\n",
      "        136       0.97      0.98      0.98       100\n",
      "        137       1.00      0.92      0.96       100\n",
      "        138       0.93      0.99      0.96       100\n",
      "        139       0.98      0.95      0.96       100\n",
      "        140       0.97      0.98      0.98       100\n",
      "        141       1.00      0.97      0.98       100\n",
      "        142       0.98      1.00      0.99       100\n",
      "        143       0.95      0.89      0.92       100\n",
      "        144       0.97      0.99      0.98       100\n",
      "        145       0.87      0.89      0.88       100\n",
      "        146       0.81      0.99      0.89       100\n",
      "        147       1.00      1.00      1.00       100\n",
      "        148       0.95      0.97      0.96       100\n",
      "        149       1.00      0.98      0.99       100\n",
      "        150       0.96      0.95      0.95       100\n",
      "        151       0.95      0.91      0.93       100\n",
      "        152       0.81      0.93      0.87       100\n",
      "        153       0.91      0.95      0.93       100\n",
      "        154       0.98      0.93      0.95       100\n",
      "        155       1.00      0.99      0.99       100\n",
      "\n",
      "avg / total       0.94      0.93      0.93     15600\n",
      "\n"
     ]
    }
   ],
   "source": [
    "# Classification Report on Testing data\n",
    "\n",
    "print('Classification Report\\n')\n",
    "print(classification_report(test_generator.classes, y_pred))"
   ]
  }
 ],
 "metadata": {
  "kernelspec": {
   "display_name": "Python 3",
   "language": "python",
   "name": "python3"
  },
  "language_info": {
   "codemirror_mode": {
    "name": "ipython",
    "version": 3
   },
   "file_extension": ".py",
   "mimetype": "text/x-python",
   "name": "python",
   "nbconvert_exporter": "python",
   "pygments_lexer": "ipython3",
   "version": "3.6.3"
  }
 },
 "nbformat": 4,
 "nbformat_minor": 2
}
